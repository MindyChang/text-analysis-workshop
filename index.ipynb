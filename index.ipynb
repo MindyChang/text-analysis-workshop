{
 "cells": [
  {
   "cell_type": "markdown",
   "metadata": {},
   "source": [
    "# Text Analysis from SICSS"
   ]
  },
  {
   "cell_type": "markdown",
   "metadata": {},
   "source": [
    "### Setup \n",
    "#### Install packages\n",
    "- *tidyverse*\n",
    "    - *ggplot2* for plotting\n",
    "    - *dyplr* for dataframe manipulation\n",
    "    - *tidyr* for getting to tidy data\n",
    "- *tidytext* "
   ]
  },
  {
   "cell_type": "code",
   "execution_count": 1,
   "metadata": {},
   "outputs": [],
   "source": [
    "# install.packages(\"tidytext\")\n",
    "# install.packages(\"tidyverse\")"
   ]
  },
  {
   "cell_type": "markdown",
   "metadata": {},
   "source": [
    "#### Load packages"
   ]
  },
  {
   "cell_type": "code",
   "execution_count": 8,
   "metadata": {},
   "outputs": [],
   "source": [
    "library(tidytext)\n",
    "library(dplyr)\n",
    "library(ggplot2)"
   ]
  },
  {
   "cell_type": "code",
   "execution_count": 9,
   "metadata": {},
   "outputs": [
    {
     "data": {
      "text/html": [
       "<style>\n",
       ".list-inline {list-style: none; margin:0; padding: 0}\n",
       ".list-inline>li {display: inline-block}\n",
       ".list-inline>li:not(:last-child)::after {content: \"\\00b7\"; padding: 0 .5ex}\n",
       "</style>\n",
       "<ol class=list-inline><li>'status_id'</li><li>'created_at'</li><li>'user_id'</li><li>'screen_name'</li><li>'text'</li><li>'source'</li><li>'reply_to_status_id'</li><li>'reply_to_user_id'</li><li>'reply_to_screen_name'</li><li>'is_quote'</li><li>'is_retweet'</li><li>'favorite_count'</li><li>'retweet_count'</li><li>'hashtags'</li><li>'symbols'</li><li>'urls_url'</li><li>'urls_t.co'</li><li>'urls_expanded_url'</li><li>'media_url'</li><li>'media_t.co'</li><li>'media_expanded_url'</li><li>'media_type'</li><li>'ext_media_url'</li><li>'ext_media_t.co'</li><li>'ext_media_expanded_url'</li><li>'ext_media_type'</li><li>'mentions_user_id'</li><li>'mentions_screen_name'</li><li>'lang'</li><li>'quoted_status_id'</li><li>'quoted_text'</li><li>'retweet_status_id'</li><li>'retweet_text'</li><li>'place_url'</li><li>'place_name'</li><li>'place_full_name'</li><li>'place_type'</li><li>'country'</li><li>'country_code'</li><li>'geo_coords'</li><li>'coords_coords'</li><li>'bbox_coords'</li></ol>\n"
      ],
      "text/latex": [
       "\\begin{enumerate*}\n",
       "\\item 'status\\_id'\n",
       "\\item 'created\\_at'\n",
       "\\item 'user\\_id'\n",
       "\\item 'screen\\_name'\n",
       "\\item 'text'\n",
       "\\item 'source'\n",
       "\\item 'reply\\_to\\_status\\_id'\n",
       "\\item 'reply\\_to\\_user\\_id'\n",
       "\\item 'reply\\_to\\_screen\\_name'\n",
       "\\item 'is\\_quote'\n",
       "\\item 'is\\_retweet'\n",
       "\\item 'favorite\\_count'\n",
       "\\item 'retweet\\_count'\n",
       "\\item 'hashtags'\n",
       "\\item 'symbols'\n",
       "\\item 'urls\\_url'\n",
       "\\item 'urls\\_t.co'\n",
       "\\item 'urls\\_expanded\\_url'\n",
       "\\item 'media\\_url'\n",
       "\\item 'media\\_t.co'\n",
       "\\item 'media\\_expanded\\_url'\n",
       "\\item 'media\\_type'\n",
       "\\item 'ext\\_media\\_url'\n",
       "\\item 'ext\\_media\\_t.co'\n",
       "\\item 'ext\\_media\\_expanded\\_url'\n",
       "\\item 'ext\\_media\\_type'\n",
       "\\item 'mentions\\_user\\_id'\n",
       "\\item 'mentions\\_screen\\_name'\n",
       "\\item 'lang'\n",
       "\\item 'quoted\\_status\\_id'\n",
       "\\item 'quoted\\_text'\n",
       "\\item 'retweet\\_status\\_id'\n",
       "\\item 'retweet\\_text'\n",
       "\\item 'place\\_url'\n",
       "\\item 'place\\_name'\n",
       "\\item 'place\\_full\\_name'\n",
       "\\item 'place\\_type'\n",
       "\\item 'country'\n",
       "\\item 'country\\_code'\n",
       "\\item 'geo\\_coords'\n",
       "\\item 'coords\\_coords'\n",
       "\\item 'bbox\\_coords'\n",
       "\\end{enumerate*}\n"
      ],
      "text/markdown": [
       "1. 'status_id'\n",
       "2. 'created_at'\n",
       "3. 'user_id'\n",
       "4. 'screen_name'\n",
       "5. 'text'\n",
       "6. 'source'\n",
       "7. 'reply_to_status_id'\n",
       "8. 'reply_to_user_id'\n",
       "9. 'reply_to_screen_name'\n",
       "10. 'is_quote'\n",
       "11. 'is_retweet'\n",
       "12. 'favorite_count'\n",
       "13. 'retweet_count'\n",
       "14. 'hashtags'\n",
       "15. 'symbols'\n",
       "16. 'urls_url'\n",
       "17. 'urls_t.co'\n",
       "18. 'urls_expanded_url'\n",
       "19. 'media_url'\n",
       "20. 'media_t.co'\n",
       "21. 'media_expanded_url'\n",
       "22. 'media_type'\n",
       "23. 'ext_media_url'\n",
       "24. 'ext_media_t.co'\n",
       "25. 'ext_media_expanded_url'\n",
       "26. 'ext_media_type'\n",
       "27. 'mentions_user_id'\n",
       "28. 'mentions_screen_name'\n",
       "29. 'lang'\n",
       "30. 'quoted_status_id'\n",
       "31. 'quoted_text'\n",
       "32. 'retweet_status_id'\n",
       "33. 'retweet_text'\n",
       "34. 'place_url'\n",
       "35. 'place_name'\n",
       "36. 'place_full_name'\n",
       "37. 'place_type'\n",
       "38. 'country'\n",
       "39. 'country_code'\n",
       "40. 'geo_coords'\n",
       "41. 'coords_coords'\n",
       "42. 'bbox_coords'\n",
       "\n",
       "\n"
      ],
      "text/plain": [
       " [1] \"status_id\"              \"created_at\"             \"user_id\"               \n",
       " [4] \"screen_name\"            \"text\"                   \"source\"                \n",
       " [7] \"reply_to_status_id\"     \"reply_to_user_id\"       \"reply_to_screen_name\"  \n",
       "[10] \"is_quote\"               \"is_retweet\"             \"favorite_count\"        \n",
       "[13] \"retweet_count\"          \"hashtags\"               \"symbols\"               \n",
       "[16] \"urls_url\"               \"urls_t.co\"              \"urls_expanded_url\"     \n",
       "[19] \"media_url\"              \"media_t.co\"             \"media_expanded_url\"    \n",
       "[22] \"media_type\"             \"ext_media_url\"          \"ext_media_t.co\"        \n",
       "[25] \"ext_media_expanded_url\" \"ext_media_type\"         \"mentions_user_id\"      \n",
       "[28] \"mentions_screen_name\"   \"lang\"                   \"quoted_status_id\"      \n",
       "[31] \"quoted_text\"            \"retweet_status_id\"      \"retweet_text\"          \n",
       "[34] \"place_url\"              \"place_name\"             \"place_full_name\"       \n",
       "[37] \"place_type\"             \"country\"                \"country_code\"          \n",
       "[40] \"geo_coords\"             \"coords_coords\"          \"bbox_coords\"           "
      ]
     },
     "metadata": {},
     "output_type": "display_data"
    }
   ],
   "source": [
    "load(url(\"https://cbail.github.io/Trump_Tweets.Rdata\"))\n",
    "## if the file is not available, download a local copy\n",
    "# load(file = \"trumptweets.Rdata\")\n"
   ]
  },
  {
   "cell_type": "markdown",
   "metadata": {},
   "source": [
    "##### Format data\n",
    "**Tokenization** - the way you define a unit of analysis (e.g. words, sequence of words, sentence)\n",
    "\n",
    "**Tidy text format** One row per token (word) with  column variables that have extra context (e.g. which tweet the word came from)"
   ]
  },
  {
   "cell_type": "code",
   "execution_count": 12,
   "metadata": {},
   "outputs": [
    {
     "data": {
      "text/html": [
       "<table>\n",
       "<caption>A tibble: 5 × 42</caption>\n",
       "<thead>\n",
       "\t<tr><th scope=col>status_id</th><th scope=col>created_at</th><th scope=col>user_id</th><th scope=col>screen_name</th><th scope=col>text</th><th scope=col>source</th><th scope=col>reply_to_status_id</th><th scope=col>reply_to_user_id</th><th scope=col>reply_to_screen_name</th><th scope=col>is_quote</th><th scope=col>⋯</th><th scope=col>retweet_text</th><th scope=col>place_url</th><th scope=col>place_name</th><th scope=col>place_full_name</th><th scope=col>place_type</th><th scope=col>country</th><th scope=col>country_code</th><th scope=col>geo_coords</th><th scope=col>coords_coords</th><th scope=col>bbox_coords</th></tr>\n",
       "\t<tr><th scope=col>&lt;chr&gt;</th><th scope=col>&lt;dttm&gt;</th><th scope=col>&lt;chr&gt;</th><th scope=col>&lt;chr&gt;</th><th scope=col>&lt;chr&gt;</th><th scope=col>&lt;chr&gt;</th><th scope=col>&lt;chr&gt;</th><th scope=col>&lt;chr&gt;</th><th scope=col>&lt;chr&gt;</th><th scope=col>&lt;lgl&gt;</th><th scope=col>⋯</th><th scope=col>&lt;chr&gt;</th><th scope=col>&lt;chr&gt;</th><th scope=col>&lt;chr&gt;</th><th scope=col>&lt;chr&gt;</th><th scope=col>&lt;chr&gt;</th><th scope=col>&lt;chr&gt;</th><th scope=col>&lt;chr&gt;</th><th scope=col>&lt;list&gt;</th><th scope=col>&lt;list&gt;</th><th scope=col>&lt;list&gt;</th></tr>\n",
       "</thead>\n",
       "<tbody>\n",
       "\t<tr><td>997577906007298048</td><td>2018-05-18 20:41:21</td><td>25073877</td><td>realDonaldTrump</td><td>Just met with UN Secretary-General António Guterres who is working hard to “Make the United Nations Great Again.” When the UN does more to solve conflicts around the world, it means the U.S. has less to do and we save money. @NikkiHaley is doing a fantastic job! https://t.co/pqUv6cyH2z           </td><td>Twitter for iPhone</td><td>NA</td><td>NA</td><td>NA</td><td>FALSE</td><td>⋯</td><td>NA                                                                                                                                                                                                                                                                                       </td><td>NA</td><td>NA</td><td>NA</td><td>NA</td><td>NA</td><td>NA</td><td>NA, NA</td><td>NA, NA</td><td>NA, NA, NA, NA, NA, NA, NA, NA</td></tr>\n",
       "\t<tr><td>997573139663028224</td><td>2018-05-18 20:22:25</td><td>25073877</td><td>realDonaldTrump</td><td>America is a Nation that believes in the power of redemption. America is a Nation that believes in second chances - and America is a Nation that believes that the best is always yet to come! #PrisonReform https://t.co/Yk5UJUYgHN                                                                     </td><td>Twitter for iPhone</td><td>NA</td><td>NA</td><td>NA</td><td>FALSE</td><td>⋯</td><td>NA                                                                                                                                                                                                                                                                                       </td><td>NA</td><td>NA</td><td>NA</td><td>NA</td><td>NA</td><td>NA</td><td>NA, NA</td><td>NA, NA</td><td>NA, NA, NA, NA, NA, NA, NA, NA</td></tr>\n",
       "\t<tr><td>997568208369577985</td><td>2018-05-18 20:02:49</td><td>25073877</td><td>realDonaldTrump</td><td><span style=white-space:pre-wrap>RT @SteveForbesCEO: .@realDonaldTrump speech on drug costs pays immediate dividends. New @Amgen drug lists at 30% less than expected. Middl…                                                                                                                                                             </span></td><td>Twitter for iPhone</td><td>NA</td><td>NA</td><td>NA</td><td>FALSE</td><td>⋯</td><td><span style=white-space:pre-wrap>.@realDonaldTrump speech on drug costs pays immediate dividends. New @Amgen drug lists at 30% less than expected. Middlemen like Pharmacy Benefit Managers, insurers &amp;amp; hospitals would do well by passing discounts on to patients. @SecAzar  @SGottliebFDA \n",
       "https://t.co/mfRQ5COtev</span></td><td>NA</td><td>NA</td><td>NA</td><td>NA</td><td>NA</td><td>NA</td><td>NA, NA</td><td>NA, NA</td><td>NA, NA, NA, NA, NA, NA, NA, NA</td></tr>\n",
       "\t<tr><td>997515759281680385</td><td>2018-05-18 16:34:24</td><td>25073877</td><td>realDonaldTrump</td><td>We grieve for the terrible loss of life, and send our support and love to everyone affected by this horrible attack in Texas. To the students, families, teachers and personnel at Santa Fe High School – we are with you in this tragic hour, and we will be with you forever... https://t.co/LtJ0D29Hsv</td><td>Twitter for iPhone</td><td>NA</td><td>NA</td><td>NA</td><td>FALSE</td><td>⋯</td><td>NA                                                                                                                                                                                                                                                                                       </td><td>NA</td><td>NA</td><td>NA</td><td>NA</td><td>NA</td><td>NA</td><td>NA, NA</td><td>NA, NA</td><td>NA, NA, NA, NA, NA, NA, NA, NA</td></tr>\n",
       "\t<tr><td>997493407097524224</td><td>2018-05-18 15:05:35</td><td>25073877</td><td>realDonaldTrump</td><td>School shooting in Texas. Early reports not looking good. God bless all!                                                                                                                                                                                                                                 </td><td>Twitter for iPhone</td><td>NA</td><td>NA</td><td>NA</td><td>FALSE</td><td>⋯</td><td>NA                                                                                                                                                                                                                                                                                       </td><td>NA</td><td>NA</td><td>NA</td><td>NA</td><td>NA</td><td>NA</td><td>NA, NA</td><td>NA, NA</td><td>NA, NA, NA, NA, NA, NA, NA, NA</td></tr>\n",
       "</tbody>\n",
       "</table>\n"
      ],
      "text/latex": [
       "A tibble: 5 × 42\n",
       "\\begin{tabular}{lllllllllllllllllllll}\n",
       " status\\_id & created\\_at & user\\_id & screen\\_name & text & source & reply\\_to\\_status\\_id & reply\\_to\\_user\\_id & reply\\_to\\_screen\\_name & is\\_quote & ⋯ & retweet\\_text & place\\_url & place\\_name & place\\_full\\_name & place\\_type & country & country\\_code & geo\\_coords & coords\\_coords & bbox\\_coords\\\\\n",
       " <chr> & <dttm> & <chr> & <chr> & <chr> & <chr> & <chr> & <chr> & <chr> & <lgl> & ⋯ & <chr> & <chr> & <chr> & <chr> & <chr> & <chr> & <chr> & <list> & <list> & <list>\\\\\n",
       "\\hline\n",
       "\t 997577906007298048 & 2018-05-18 20:41:21 & 25073877 & realDonaldTrump & Just met with UN Secretary-General António Guterres who is working hard to “Make the United Nations Great Again.” When the UN does more to solve conflicts around the world, it means the U.S. has less to do and we save money. @NikkiHaley is doing a fantastic job! https://t.co/pqUv6cyH2z            & Twitter for iPhone & NA & NA & NA & FALSE & ⋯ & NA                                                                                                                                                                                                                                                                                        & NA & NA & NA & NA & NA & NA & NA, NA & NA, NA & NA, NA, NA, NA, NA, NA, NA, NA\\\\\n",
       "\t 997573139663028224 & 2018-05-18 20:22:25 & 25073877 & realDonaldTrump & America is a Nation that believes in the power of redemption. America is a Nation that believes in second chances - and America is a Nation that believes that the best is always yet to come! \\#PrisonReform https://t.co/Yk5UJUYgHN                                                                      & Twitter for iPhone & NA & NA & NA & FALSE & ⋯ & NA                                                                                                                                                                                                                                                                                        & NA & NA & NA & NA & NA & NA & NA, NA & NA, NA & NA, NA, NA, NA, NA, NA, NA, NA\\\\\n",
       "\t 997568208369577985 & 2018-05-18 20:02:49 & 25073877 & realDonaldTrump & RT @SteveForbesCEO: .@realDonaldTrump speech on drug costs pays immediate dividends. New @Amgen drug lists at 30\\% less than expected. Middl…                                                                                                                                                              & Twitter for iPhone & NA & NA & NA & FALSE & ⋯ & .@realDonaldTrump speech on drug costs pays immediate dividends. New @Amgen drug lists at 30\\% less than expected. Middlemen like Pharmacy Benefit Managers, insurers \\&amp; hospitals would do well by passing discounts on to patients. @SecAzar  @SGottliebFDA \n",
       "https://t.co/mfRQ5COtev & NA & NA & NA & NA & NA & NA & NA, NA & NA, NA & NA, NA, NA, NA, NA, NA, NA, NA\\\\\n",
       "\t 997515759281680385 & 2018-05-18 16:34:24 & 25073877 & realDonaldTrump & We grieve for the terrible loss of life, and send our support and love to everyone affected by this horrible attack in Texas. To the students, families, teachers and personnel at Santa Fe High School – we are with you in this tragic hour, and we will be with you forever... https://t.co/LtJ0D29Hsv & Twitter for iPhone & NA & NA & NA & FALSE & ⋯ & NA                                                                                                                                                                                                                                                                                        & NA & NA & NA & NA & NA & NA & NA, NA & NA, NA & NA, NA, NA, NA, NA, NA, NA, NA\\\\\n",
       "\t 997493407097524224 & 2018-05-18 15:05:35 & 25073877 & realDonaldTrump & School shooting in Texas. Early reports not looking good. God bless all!                                                                                                                                                                                                                                  & Twitter for iPhone & NA & NA & NA & FALSE & ⋯ & NA                                                                                                                                                                                                                                                                                        & NA & NA & NA & NA & NA & NA & NA, NA & NA, NA & NA, NA, NA, NA, NA, NA, NA, NA\\\\\n",
       "\\end{tabular}\n"
      ],
      "text/markdown": [
       "\n",
       "A tibble: 5 × 42\n",
       "\n",
       "| status_id &lt;chr&gt; | created_at &lt;dttm&gt; | user_id &lt;chr&gt; | screen_name &lt;chr&gt; | text &lt;chr&gt; | source &lt;chr&gt; | reply_to_status_id &lt;chr&gt; | reply_to_user_id &lt;chr&gt; | reply_to_screen_name &lt;chr&gt; | is_quote &lt;lgl&gt; | ⋯ ⋯ | retweet_text &lt;chr&gt; | place_url &lt;chr&gt; | place_name &lt;chr&gt; | place_full_name &lt;chr&gt; | place_type &lt;chr&gt; | country &lt;chr&gt; | country_code &lt;chr&gt; | geo_coords &lt;list&gt; | coords_coords &lt;list&gt; | bbox_coords &lt;list&gt; |\n",
       "|---|---|---|---|---|---|---|---|---|---|---|---|---|---|---|---|---|---|---|---|---|\n",
       "| 997577906007298048 | 2018-05-18 20:41:21 | 25073877 | realDonaldTrump | Just met with UN Secretary-General António Guterres who is working hard to “Make the United Nations Great Again.” When the UN does more to solve conflicts around the world, it means the U.S. has less to do and we save money. @NikkiHaley is doing a fantastic job! https://t.co/pqUv6cyH2z            | Twitter for iPhone | NA | NA | NA | FALSE | ⋯ | NA                                                                                                                                                                                                                                                                                        | NA | NA | NA | NA | NA | NA | NA, NA | NA, NA | NA, NA, NA, NA, NA, NA, NA, NA |\n",
       "| 997573139663028224 | 2018-05-18 20:22:25 | 25073877 | realDonaldTrump | America is a Nation that believes in the power of redemption. America is a Nation that believes in second chances - and America is a Nation that believes that the best is always yet to come! #PrisonReform https://t.co/Yk5UJUYgHN                                                                      | Twitter for iPhone | NA | NA | NA | FALSE | ⋯ | NA                                                                                                                                                                                                                                                                                        | NA | NA | NA | NA | NA | NA | NA, NA | NA, NA | NA, NA, NA, NA, NA, NA, NA, NA |\n",
       "| 997568208369577985 | 2018-05-18 20:02:49 | 25073877 | realDonaldTrump | RT @SteveForbesCEO: .@realDonaldTrump speech on drug costs pays immediate dividends. New @Amgen drug lists at 30% less than expected. Middl…                                                                                                                                                              | Twitter for iPhone | NA | NA | NA | FALSE | ⋯ | .@realDonaldTrump speech on drug costs pays immediate dividends. New @Amgen drug lists at 30% less than expected. Middlemen like Pharmacy Benefit Managers, insurers &amp;amp; hospitals would do well by passing discounts on to patients. @SecAzar  @SGottliebFDA \n",
       "https://t.co/mfRQ5COtev | NA | NA | NA | NA | NA | NA | NA, NA | NA, NA | NA, NA, NA, NA, NA, NA, NA, NA |\n",
       "| 997515759281680385 | 2018-05-18 16:34:24 | 25073877 | realDonaldTrump | We grieve for the terrible loss of life, and send our support and love to everyone affected by this horrible attack in Texas. To the students, families, teachers and personnel at Santa Fe High School – we are with you in this tragic hour, and we will be with you forever... https://t.co/LtJ0D29Hsv | Twitter for iPhone | NA | NA | NA | FALSE | ⋯ | NA                                                                                                                                                                                                                                                                                        | NA | NA | NA | NA | NA | NA | NA, NA | NA, NA | NA, NA, NA, NA, NA, NA, NA, NA |\n",
       "| 997493407097524224 | 2018-05-18 15:05:35 | 25073877 | realDonaldTrump | School shooting in Texas. Early reports not looking good. God bless all!                                                                                                                                                                                                                                  | Twitter for iPhone | NA | NA | NA | FALSE | ⋯ | NA                                                                                                                                                                                                                                                                                        | NA | NA | NA | NA | NA | NA | NA, NA | NA, NA | NA, NA, NA, NA, NA, NA, NA, NA |\n",
       "\n"
      ],
      "text/plain": [
       "  status_id          created_at          user_id  screen_name    \n",
       "1 997577906007298048 2018-05-18 20:41:21 25073877 realDonaldTrump\n",
       "2 997573139663028224 2018-05-18 20:22:25 25073877 realDonaldTrump\n",
       "3 997568208369577985 2018-05-18 20:02:49 25073877 realDonaldTrump\n",
       "4 997515759281680385 2018-05-18 16:34:24 25073877 realDonaldTrump\n",
       "5 997493407097524224 2018-05-18 15:05:35 25073877 realDonaldTrump\n",
       "  text                                                                                                                                                                                                                                                                                                     \n",
       "1 Just met with UN Secretary-General António Guterres who is working hard to “Make the United Nations Great Again.” When the UN does more to solve conflicts around the world, it means the U.S. has less to do and we save money. @NikkiHaley is doing a fantastic job! https://t.co/pqUv6cyH2z           \n",
       "2 America is a Nation that believes in the power of redemption. America is a Nation that believes in second chances - and America is a Nation that believes that the best is always yet to come! #PrisonReform https://t.co/Yk5UJUYgHN                                                                     \n",
       "3 RT @SteveForbesCEO: .@realDonaldTrump speech on drug costs pays immediate dividends. New @Amgen drug lists at 30% less than expected. Middl…                                                                                                                                                             \n",
       "4 We grieve for the terrible loss of life, and send our support and love to everyone affected by this horrible attack in Texas. To the students, families, teachers and personnel at Santa Fe High School – we are with you in this tragic hour, and we will be with you forever... https://t.co/LtJ0D29Hsv\n",
       "5 School shooting in Texas. Early reports not looking good. God bless all!                                                                                                                                                                                                                                 \n",
       "  source             reply_to_status_id reply_to_user_id reply_to_screen_name\n",
       "1 Twitter for iPhone NA                 NA               NA                  \n",
       "2 Twitter for iPhone NA                 NA               NA                  \n",
       "3 Twitter for iPhone NA                 NA               NA                  \n",
       "4 Twitter for iPhone NA                 NA               NA                  \n",
       "5 Twitter for iPhone NA                 NA               NA                  \n",
       "  is_quote ⋯\n",
       "1 FALSE    ⋯\n",
       "2 FALSE    ⋯\n",
       "3 FALSE    ⋯\n",
       "4 FALSE    ⋯\n",
       "5 FALSE    ⋯\n",
       "  retweet_text                                                                                                                                                                                                                                                                             \n",
       "1 NA                                                                                                                                                                                                                                                                                       \n",
       "2 NA                                                                                                                                                                                                                                                                                       \n",
       "3 .@realDonaldTrump speech on drug costs pays immediate dividends. New @Amgen drug lists at 30% less than expected. Middlemen like Pharmacy Benefit Managers, insurers &amp; hospitals would do well by passing discounts on to patients. @SecAzar  @SGottliebFDA \\nhttps://t.co/mfRQ5COtev\n",
       "4 NA                                                                                                                                                                                                                                                                                       \n",
       "5 NA                                                                                                                                                                                                                                                                                       \n",
       "  place_url place_name place_full_name place_type country country_code\n",
       "1 NA        NA         NA              NA         NA      NA          \n",
       "2 NA        NA         NA              NA         NA      NA          \n",
       "3 NA        NA         NA              NA         NA      NA          \n",
       "4 NA        NA         NA              NA         NA      NA          \n",
       "5 NA        NA         NA              NA         NA      NA          \n",
       "  geo_coords coords_coords bbox_coords                   \n",
       "1 NA, NA     NA, NA        NA, NA, NA, NA, NA, NA, NA, NA\n",
       "2 NA, NA     NA, NA        NA, NA, NA, NA, NA, NA, NA, NA\n",
       "3 NA, NA     NA, NA        NA, NA, NA, NA, NA, NA, NA, NA\n",
       "4 NA, NA     NA, NA        NA, NA, NA, NA, NA, NA, NA, NA\n",
       "5 NA, NA     NA, NA        NA, NA, NA, NA, NA, NA, NA, NA"
      ]
     },
     "metadata": {},
     "output_type": "display_data"
    }
   ],
   "source": [
    "# preview trumptweets\n",
    "head(trumptweets,5)"
   ]
  },
  {
   "cell_type": "code",
   "execution_count": 4,
   "metadata": {},
   "outputs": [
    {
     "data": {
      "text/html": [
       "<table>\n",
       "<caption>A tibble: 6 × 2</caption>\n",
       "<thead>\n",
       "\t<tr><th scope=col>created_at</th><th scope=col>word</th></tr>\n",
       "\t<tr><th scope=col>&lt;dttm&gt;</th><th scope=col>&lt;chr&gt;</th></tr>\n",
       "</thead>\n",
       "<tbody>\n",
       "\t<tr><td>2018-05-18 20:41:21</td><td>just     </td></tr>\n",
       "\t<tr><td>2018-05-18 20:41:21</td><td>met      </td></tr>\n",
       "\t<tr><td>2018-05-18 20:41:21</td><td>with     </td></tr>\n",
       "\t<tr><td>2018-05-18 20:41:21</td><td>un       </td></tr>\n",
       "\t<tr><td>2018-05-18 20:41:21</td><td>secretary</td></tr>\n",
       "\t<tr><td>2018-05-18 20:41:21</td><td>general  </td></tr>\n",
       "</tbody>\n",
       "</table>\n"
      ],
      "text/latex": [
       "A tibble: 6 × 2\n",
       "\\begin{tabular}{ll}\n",
       " created\\_at & word\\\\\n",
       " <dttm> & <chr>\\\\\n",
       "\\hline\n",
       "\t 2018-05-18 20:41:21 & just     \\\\\n",
       "\t 2018-05-18 20:41:21 & met      \\\\\n",
       "\t 2018-05-18 20:41:21 & with     \\\\\n",
       "\t 2018-05-18 20:41:21 & un       \\\\\n",
       "\t 2018-05-18 20:41:21 & secretary\\\\\n",
       "\t 2018-05-18 20:41:21 & general  \\\\\n",
       "\\end{tabular}\n"
      ],
      "text/markdown": [
       "\n",
       "A tibble: 6 × 2\n",
       "\n",
       "| created_at &lt;dttm&gt; | word &lt;chr&gt; |\n",
       "|---|---|\n",
       "| 2018-05-18 20:41:21 | just      |\n",
       "| 2018-05-18 20:41:21 | met       |\n",
       "| 2018-05-18 20:41:21 | with      |\n",
       "| 2018-05-18 20:41:21 | un        |\n",
       "| 2018-05-18 20:41:21 | secretary |\n",
       "| 2018-05-18 20:41:21 | general   |\n",
       "\n"
      ],
      "text/plain": [
       "  created_at          word     \n",
       "1 2018-05-18 20:41:21 just     \n",
       "2 2018-05-18 20:41:21 met      \n",
       "3 2018-05-18 20:41:21 with     \n",
       "4 2018-05-18 20:41:21 un       \n",
       "5 2018-05-18 20:41:21 secretary\n",
       "6 2018-05-18 20:41:21 general  "
      ]
     },
     "metadata": {},
     "output_type": "display_data"
    }
   ],
   "source": [
    "tidy_trump_tweets<- trumptweets %>%\n",
    "    select(created_at,text) %>%\n",
    "    unnest_tokens(\"word\", text)\n",
    "head(tidy_trump_tweets)"
   ]
  },
  {
   "cell_type": "code",
   "execution_count": null,
   "metadata": {},
   "outputs": [],
   "source": []
  }
 ],
 "metadata": {
  "kernelspec": {
   "display_name": "R",
   "language": "R",
   "name": "ir"
  },
  "language_info": {
   "codemirror_mode": "r",
   "file_extension": ".r",
   "mimetype": "text/x-r-source",
   "name": "R",
   "pygments_lexer": "r",
   "version": "3.6.3"
  },
  "toc": {
   "base_numbering": 1,
   "nav_menu": {},
   "number_sections": true,
   "sideBar": true,
   "skip_h1_title": false,
   "title_cell": "Table of Contents",
   "title_sidebar": "Contents",
   "toc_cell": false,
   "toc_position": {},
   "toc_section_display": true,
   "toc_window_display": true
  }
 },
 "nbformat": 4,
 "nbformat_minor": 4
}
