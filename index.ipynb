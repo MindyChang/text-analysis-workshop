{
 "cells": [
  {
   "cell_type": "markdown",
   "metadata": {},
   "source": [
    "# Text Analysis from SICSS"
   ]
  },
  {
   "cell_type": "markdown",
   "metadata": {},
   "source": [
    "### Setup \n",
    "#### Install packages\n",
    "- *tidyverse*\n",
    "    - *ggplot2* for plotting\n",
    "    - *dyplr* for dataframe manipulation\n",
    "    - *tidyr* for getting to tidy data\n",
    "- *tidytext* "
   ]
  },
  {
   "cell_type": "code",
   "execution_count": 1,
   "metadata": {},
   "outputs": [],
   "source": [
    "# install.packages(\"tidytext\")\n",
    "# install.packages(\"tidyverse\")"
   ]
  },
  {
   "cell_type": "markdown",
   "metadata": {},
   "source": [
    "#### Load packages"
   ]
  },
  {
   "cell_type": "code",
   "execution_count": 6,
   "metadata": {},
   "outputs": [],
   "source": [
    "library(tidytext)\n",
    "library(dplyr)\n",
    "library(jtools)\n",
    "library(ggstance)"
   ]
  },
  {
   "cell_type": "code",
   "execution_count": 3,
   "metadata": {},
   "outputs": [
    {
     "data": {
      "text/html": [
       "<style>\n",
       ".list-inline {list-style: none; margin:0; padding: 0}\n",
       ".list-inline>li {display: inline-block}\n",
       ".list-inline>li:not(:last-child)::after {content: \"\\00b7\"; padding: 0 .5ex}\n",
       "</style>\n",
       "<ol class=list-inline><li>'status_id'</li><li>'created_at'</li><li>'user_id'</li><li>'screen_name'</li><li>'text'</li><li>'source'</li><li>'reply_to_status_id'</li><li>'reply_to_user_id'</li><li>'reply_to_screen_name'</li><li>'is_quote'</li><li>'is_retweet'</li><li>'favorite_count'</li><li>'retweet_count'</li><li>'hashtags'</li><li>'symbols'</li><li>'urls_url'</li><li>'urls_t.co'</li><li>'urls_expanded_url'</li><li>'media_url'</li><li>'media_t.co'</li><li>'media_expanded_url'</li><li>'media_type'</li><li>'ext_media_url'</li><li>'ext_media_t.co'</li><li>'ext_media_expanded_url'</li><li>'ext_media_type'</li><li>'mentions_user_id'</li><li>'mentions_screen_name'</li><li>'lang'</li><li>'quoted_status_id'</li><li>'quoted_text'</li><li>'retweet_status_id'</li><li>'retweet_text'</li><li>'place_url'</li><li>'place_name'</li><li>'place_full_name'</li><li>'place_type'</li><li>'country'</li><li>'country_code'</li><li>'geo_coords'</li><li>'coords_coords'</li><li>'bbox_coords'</li></ol>\n"
      ],
      "text/latex": [
       "\\begin{enumerate*}\n",
       "\\item 'status\\_id'\n",
       "\\item 'created\\_at'\n",
       "\\item 'user\\_id'\n",
       "\\item 'screen\\_name'\n",
       "\\item 'text'\n",
       "\\item 'source'\n",
       "\\item 'reply\\_to\\_status\\_id'\n",
       "\\item 'reply\\_to\\_user\\_id'\n",
       "\\item 'reply\\_to\\_screen\\_name'\n",
       "\\item 'is\\_quote'\n",
       "\\item 'is\\_retweet'\n",
       "\\item 'favorite\\_count'\n",
       "\\item 'retweet\\_count'\n",
       "\\item 'hashtags'\n",
       "\\item 'symbols'\n",
       "\\item 'urls\\_url'\n",
       "\\item 'urls\\_t.co'\n",
       "\\item 'urls\\_expanded\\_url'\n",
       "\\item 'media\\_url'\n",
       "\\item 'media\\_t.co'\n",
       "\\item 'media\\_expanded\\_url'\n",
       "\\item 'media\\_type'\n",
       "\\item 'ext\\_media\\_url'\n",
       "\\item 'ext\\_media\\_t.co'\n",
       "\\item 'ext\\_media\\_expanded\\_url'\n",
       "\\item 'ext\\_media\\_type'\n",
       "\\item 'mentions\\_user\\_id'\n",
       "\\item 'mentions\\_screen\\_name'\n",
       "\\item 'lang'\n",
       "\\item 'quoted\\_status\\_id'\n",
       "\\item 'quoted\\_text'\n",
       "\\item 'retweet\\_status\\_id'\n",
       "\\item 'retweet\\_text'\n",
       "\\item 'place\\_url'\n",
       "\\item 'place\\_name'\n",
       "\\item 'place\\_full\\_name'\n",
       "\\item 'place\\_type'\n",
       "\\item 'country'\n",
       "\\item 'country\\_code'\n",
       "\\item 'geo\\_coords'\n",
       "\\item 'coords\\_coords'\n",
       "\\item 'bbox\\_coords'\n",
       "\\end{enumerate*}\n"
      ],
      "text/markdown": [
       "1. 'status_id'\n",
       "2. 'created_at'\n",
       "3. 'user_id'\n",
       "4. 'screen_name'\n",
       "5. 'text'\n",
       "6. 'source'\n",
       "7. 'reply_to_status_id'\n",
       "8. 'reply_to_user_id'\n",
       "9. 'reply_to_screen_name'\n",
       "10. 'is_quote'\n",
       "11. 'is_retweet'\n",
       "12. 'favorite_count'\n",
       "13. 'retweet_count'\n",
       "14. 'hashtags'\n",
       "15. 'symbols'\n",
       "16. 'urls_url'\n",
       "17. 'urls_t.co'\n",
       "18. 'urls_expanded_url'\n",
       "19. 'media_url'\n",
       "20. 'media_t.co'\n",
       "21. 'media_expanded_url'\n",
       "22. 'media_type'\n",
       "23. 'ext_media_url'\n",
       "24. 'ext_media_t.co'\n",
       "25. 'ext_media_expanded_url'\n",
       "26. 'ext_media_type'\n",
       "27. 'mentions_user_id'\n",
       "28. 'mentions_screen_name'\n",
       "29. 'lang'\n",
       "30. 'quoted_status_id'\n",
       "31. 'quoted_text'\n",
       "32. 'retweet_status_id'\n",
       "33. 'retweet_text'\n",
       "34. 'place_url'\n",
       "35. 'place_name'\n",
       "36. 'place_full_name'\n",
       "37. 'place_type'\n",
       "38. 'country'\n",
       "39. 'country_code'\n",
       "40. 'geo_coords'\n",
       "41. 'coords_coords'\n",
       "42. 'bbox_coords'\n",
       "\n",
       "\n"
      ],
      "text/plain": [
       " [1] \"status_id\"              \"created_at\"             \"user_id\"               \n",
       " [4] \"screen_name\"            \"text\"                   \"source\"                \n",
       " [7] \"reply_to_status_id\"     \"reply_to_user_id\"       \"reply_to_screen_name\"  \n",
       "[10] \"is_quote\"               \"is_retweet\"             \"favorite_count\"        \n",
       "[13] \"retweet_count\"          \"hashtags\"               \"symbols\"               \n",
       "[16] \"urls_url\"               \"urls_t.co\"              \"urls_expanded_url\"     \n",
       "[19] \"media_url\"              \"media_t.co\"             \"media_expanded_url\"    \n",
       "[22] \"media_type\"             \"ext_media_url\"          \"ext_media_t.co\"        \n",
       "[25] \"ext_media_expanded_url\" \"ext_media_type\"         \"mentions_user_id\"      \n",
       "[28] \"mentions_screen_name\"   \"lang\"                   \"quoted_status_id\"      \n",
       "[31] \"quoted_text\"            \"retweet_status_id\"      \"retweet_text\"          \n",
       "[34] \"place_url\"              \"place_name\"             \"place_full_name\"       \n",
       "[37] \"place_type\"             \"country\"                \"country_code\"          \n",
       "[40] \"geo_coords\"             \"coords_coords\"          \"bbox_coords\"           "
      ]
     },
     "metadata": {},
     "output_type": "display_data"
    }
   ],
   "source": [
    "load(url(\"https://cbail.github.io/Trump_Tweets.Rdata\"))\n",
    "## if the file is not available, download a local copy\n",
    "# load(file = \"trumptweets.Rdata\")\n",
    "\n",
    "# view column names in trumptweets\n",
    "names(trumptweets)"
   ]
  },
  {
   "cell_type": "markdown",
   "metadata": {},
   "source": [
    "##### Format data\n",
    "**Tokenization** - the way you define a unit of analysis (e.g. words, sequence of words, sentence)\n",
    "\n",
    "**Tidy text format** One row per token (word) with  column variables that have extra context (e.g. which tweet the word came from)"
   ]
  },
  {
   "cell_type": "code",
   "execution_count": 4,
   "metadata": {},
   "outputs": [
    {
     "data": {
      "text/html": [
       "<table>\n",
       "<caption>A tibble: 6 × 2</caption>\n",
       "<thead>\n",
       "\t<tr><th scope=col>created_at</th><th scope=col>word</th></tr>\n",
       "\t<tr><th scope=col>&lt;dttm&gt;</th><th scope=col>&lt;chr&gt;</th></tr>\n",
       "</thead>\n",
       "<tbody>\n",
       "\t<tr><td>2018-05-18 20:41:21</td><td>just     </td></tr>\n",
       "\t<tr><td>2018-05-18 20:41:21</td><td>met      </td></tr>\n",
       "\t<tr><td>2018-05-18 20:41:21</td><td>with     </td></tr>\n",
       "\t<tr><td>2018-05-18 20:41:21</td><td>un       </td></tr>\n",
       "\t<tr><td>2018-05-18 20:41:21</td><td>secretary</td></tr>\n",
       "\t<tr><td>2018-05-18 20:41:21</td><td>general  </td></tr>\n",
       "</tbody>\n",
       "</table>\n"
      ],
      "text/latex": [
       "A tibble: 6 × 2\n",
       "\\begin{tabular}{ll}\n",
       " created\\_at & word\\\\\n",
       " <dttm> & <chr>\\\\\n",
       "\\hline\n",
       "\t 2018-05-18 20:41:21 & just     \\\\\n",
       "\t 2018-05-18 20:41:21 & met      \\\\\n",
       "\t 2018-05-18 20:41:21 & with     \\\\\n",
       "\t 2018-05-18 20:41:21 & un       \\\\\n",
       "\t 2018-05-18 20:41:21 & secretary\\\\\n",
       "\t 2018-05-18 20:41:21 & general  \\\\\n",
       "\\end{tabular}\n"
      ],
      "text/markdown": [
       "\n",
       "A tibble: 6 × 2\n",
       "\n",
       "| created_at &lt;dttm&gt; | word &lt;chr&gt; |\n",
       "|---|---|\n",
       "| 2018-05-18 20:41:21 | just      |\n",
       "| 2018-05-18 20:41:21 | met       |\n",
       "| 2018-05-18 20:41:21 | with      |\n",
       "| 2018-05-18 20:41:21 | un        |\n",
       "| 2018-05-18 20:41:21 | secretary |\n",
       "| 2018-05-18 20:41:21 | general   |\n",
       "\n"
      ],
      "text/plain": [
       "  created_at          word     \n",
       "1 2018-05-18 20:41:21 just     \n",
       "2 2018-05-18 20:41:21 met      \n",
       "3 2018-05-18 20:41:21 with     \n",
       "4 2018-05-18 20:41:21 un       \n",
       "5 2018-05-18 20:41:21 secretary\n",
       "6 2018-05-18 20:41:21 general  "
      ]
     },
     "metadata": {},
     "output_type": "display_data"
    }
   ],
   "source": [
    "tidy_trump_tweets<- trumptweets %>%\n",
    "    select(created_at,text) %>%\n",
    "    unnest_tokens(\"word\", text)\n",
    "head(tidy_trump_tweets)"
   ]
  },
  {
   "cell_type": "code",
   "execution_count": null,
   "metadata": {},
   "outputs": [],
   "source": []
  }
 ],
 "metadata": {
  "kernelspec": {
   "display_name": "R",
   "language": "R",
   "name": "ir"
  },
  "language_info": {
   "codemirror_mode": "r",
   "file_extension": ".r",
   "mimetype": "text/x-r-source",
   "name": "R",
   "pygments_lexer": "r",
   "version": "3.6.3"
  },
  "toc": {
   "base_numbering": 1,
   "nav_menu": {},
   "number_sections": true,
   "sideBar": true,
   "skip_h1_title": false,
   "title_cell": "Table of Contents",
   "title_sidebar": "Contents",
   "toc_cell": false,
   "toc_position": {},
   "toc_section_display": true,
   "toc_window_display": true
  }
 },
 "nbformat": 4,
 "nbformat_minor": 4
}
