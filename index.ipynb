{
 "cells": [
  {
   "cell_type": "markdown",
   "metadata": {},
   "source": [
    "# Text Analysis from SICSS"
   ]
  },
  {
   "cell_type": "markdown",
   "metadata": {},
   "source": [
    "- Prepare the data\n",
    "    - Setup\n",
    "    - Load the data\n",
    "    - Format and clean the data\n",
    "- Word counting\n",
    "    - wordclouds \n",
    "    - tf-idf\n",
    "- Dictionary based methods\n",
    "    - Topic-based dictionary\n",
    "    - Sentiment analysis "
   ]
  },
  {
   "cell_type": "markdown",
   "metadata": {},
   "source": [
    "## Prepare the data"
   ]
  },
  {
   "cell_type": "markdown",
   "metadata": {},
   "source": [
    "### Setup \n",
    "#### Install packages\n",
    "We only need to install packages once - they have already been installed here.\n",
    "- *tidyverse*\n",
    "    - *ggplot2* for plotting\n",
    "    - *dyplr* for dataframe manipulation\n",
    "    - *tidyr* for getting to tidy data\n",
    "    - *lubridate* for working with dates and times\n",
    "- *tidytext* for getting text data into a tidy format\n",
    "- *SnowballC* for getting word stems\n",
    "- *wordcloud* for generating word clouds\n",
    "\n",
    "In the R console, \n",
    "```\n",
    "install.packages(\"tidyverse\")\n",
    "install.packages(\"tidytext\")\n",
    "install.packages(\"SnowballC\")\n",
    "install.packages(\"wordcloud\")\n",
    "```\n"
   ]
  },
  {
   "cell_type": "markdown",
   "metadata": {},
   "source": [
    "#### Load packages"
   ]
  },
  {
   "cell_type": "code",
   "execution_count": 6,
   "metadata": {},
   "outputs": [],
   "source": [
    "library(tidytext)\n",
    "library(dplyr)\n",
    "library(ggplot2)\n",
    "library(SnowballC)\n",
    "library(stringr)\n",
    "library(lubridate)\n",
    "library(wordcloud)"
   ]
  },
  {
   "cell_type": "markdown",
   "metadata": {},
   "source": [
    "### Load the data\n",
    "We will look at Trump's tweets collected between 2017-02-05 and 2018-05-18. \n",
    "\n",
    "This data is in the format that would be returned using an API call using the *rtweet* package."
   ]
  },
  {
   "cell_type": "code",
   "execution_count": 7,
   "metadata": {},
   "outputs": [],
   "source": [
    "load(url(\"https://cbail.github.io/Trump_Tweets.Rdata\"))\n",
    "\n",
    "## if the file is not available, download a local copy\n",
    "# load(file = \"trumptweets.Rdata\")\n"
   ]
  },
  {
   "cell_type": "markdown",
   "metadata": {},
   "source": [
    "#### Look at the data format\n",
    "Preview the data we loaded, which is named ```trumptweets```.\n",
    "\n",
    "You can change the number in \n",
    "```head(trumptweets, #) ```\n",
    "for the number of rows you want to see.\n",
    "\n",
    "- `created_at` contains the timestamp of the tweet\n",
    "\n",
    "- `text` contains the tweet"
   ]
  },
  {
   "cell_type": "code",
   "execution_count": 8,
   "metadata": {
    "scrolled": true
   },
   "outputs": [
    {
     "data": {
      "text/html": [
       "<table>\n",
       "<caption>A tibble: 5 × 42</caption>\n",
       "<thead>\n",
       "\t<tr><th scope=col>status_id</th><th scope=col>created_at</th><th scope=col>user_id</th><th scope=col>screen_name</th><th scope=col>text</th><th scope=col>source</th><th scope=col>reply_to_status_id</th><th scope=col>reply_to_user_id</th><th scope=col>reply_to_screen_name</th><th scope=col>is_quote</th><th scope=col>⋯</th><th scope=col>retweet_text</th><th scope=col>place_url</th><th scope=col>place_name</th><th scope=col>place_full_name</th><th scope=col>place_type</th><th scope=col>country</th><th scope=col>country_code</th><th scope=col>geo_coords</th><th scope=col>coords_coords</th><th scope=col>bbox_coords</th></tr>\n",
       "\t<tr><th scope=col>&lt;chr&gt;</th><th scope=col>&lt;dttm&gt;</th><th scope=col>&lt;chr&gt;</th><th scope=col>&lt;chr&gt;</th><th scope=col>&lt;chr&gt;</th><th scope=col>&lt;chr&gt;</th><th scope=col>&lt;chr&gt;</th><th scope=col>&lt;chr&gt;</th><th scope=col>&lt;chr&gt;</th><th scope=col>&lt;lgl&gt;</th><th scope=col>⋯</th><th scope=col>&lt;chr&gt;</th><th scope=col>&lt;chr&gt;</th><th scope=col>&lt;chr&gt;</th><th scope=col>&lt;chr&gt;</th><th scope=col>&lt;chr&gt;</th><th scope=col>&lt;chr&gt;</th><th scope=col>&lt;chr&gt;</th><th scope=col>&lt;list&gt;</th><th scope=col>&lt;list&gt;</th><th scope=col>&lt;list&gt;</th></tr>\n",
       "</thead>\n",
       "<tbody>\n",
       "\t<tr><td>997577906007298048</td><td>2018-05-18 20:41:21</td><td>25073877</td><td>realDonaldTrump</td><td>Just met with UN Secretary-General António Guterres who is working hard to “Make the United Nations Great Again.” When the UN does more to solve conflicts around the world, it means the U.S. has less to do and we save money. @NikkiHaley is doing a fantastic job! https://t.co/pqUv6cyH2z           </td><td>Twitter for iPhone</td><td>NA</td><td>NA</td><td>NA</td><td>FALSE</td><td>⋯</td><td>NA                                                                                                                                                                                                                                                                                       </td><td>NA</td><td>NA</td><td>NA</td><td>NA</td><td>NA</td><td>NA</td><td>NA, NA</td><td>NA, NA</td><td>NA, NA, NA, NA, NA, NA, NA, NA</td></tr>\n",
       "\t<tr><td>997573139663028224</td><td>2018-05-18 20:22:25</td><td>25073877</td><td>realDonaldTrump</td><td>America is a Nation that believes in the power of redemption. America is a Nation that believes in second chances - and America is a Nation that believes that the best is always yet to come! #PrisonReform https://t.co/Yk5UJUYgHN                                                                     </td><td>Twitter for iPhone</td><td>NA</td><td>NA</td><td>NA</td><td>FALSE</td><td>⋯</td><td>NA                                                                                                                                                                                                                                                                                       </td><td>NA</td><td>NA</td><td>NA</td><td>NA</td><td>NA</td><td>NA</td><td>NA, NA</td><td>NA, NA</td><td>NA, NA, NA, NA, NA, NA, NA, NA</td></tr>\n",
       "\t<tr><td>997568208369577985</td><td>2018-05-18 20:02:49</td><td>25073877</td><td>realDonaldTrump</td><td><span style=white-space:pre-wrap>RT @SteveForbesCEO: .@realDonaldTrump speech on drug costs pays immediate dividends. New @Amgen drug lists at 30% less than expected. Middl…                                                                                                                                                             </span></td><td>Twitter for iPhone</td><td>NA</td><td>NA</td><td>NA</td><td>FALSE</td><td>⋯</td><td><span style=white-space:pre-wrap>.@realDonaldTrump speech on drug costs pays immediate dividends. New @Amgen drug lists at 30% less than expected. Middlemen like Pharmacy Benefit Managers, insurers &amp;amp; hospitals would do well by passing discounts on to patients. @SecAzar  @SGottliebFDA \n",
       "https://t.co/mfRQ5COtev</span></td><td>NA</td><td>NA</td><td>NA</td><td>NA</td><td>NA</td><td>NA</td><td>NA, NA</td><td>NA, NA</td><td>NA, NA, NA, NA, NA, NA, NA, NA</td></tr>\n",
       "\t<tr><td>997515759281680385</td><td>2018-05-18 16:34:24</td><td>25073877</td><td>realDonaldTrump</td><td>We grieve for the terrible loss of life, and send our support and love to everyone affected by this horrible attack in Texas. To the students, families, teachers and personnel at Santa Fe High School – we are with you in this tragic hour, and we will be with you forever... https://t.co/LtJ0D29Hsv</td><td>Twitter for iPhone</td><td>NA</td><td>NA</td><td>NA</td><td>FALSE</td><td>⋯</td><td>NA                                                                                                                                                                                                                                                                                       </td><td>NA</td><td>NA</td><td>NA</td><td>NA</td><td>NA</td><td>NA</td><td>NA, NA</td><td>NA, NA</td><td>NA, NA, NA, NA, NA, NA, NA, NA</td></tr>\n",
       "\t<tr><td>997493407097524224</td><td>2018-05-18 15:05:35</td><td>25073877</td><td>realDonaldTrump</td><td>School shooting in Texas. Early reports not looking good. God bless all!                                                                                                                                                                                                                                 </td><td>Twitter for iPhone</td><td>NA</td><td>NA</td><td>NA</td><td>FALSE</td><td>⋯</td><td>NA                                                                                                                                                                                                                                                                                       </td><td>NA</td><td>NA</td><td>NA</td><td>NA</td><td>NA</td><td>NA</td><td>NA, NA</td><td>NA, NA</td><td>NA, NA, NA, NA, NA, NA, NA, NA</td></tr>\n",
       "</tbody>\n",
       "</table>\n"
      ],
      "text/latex": [
       "A tibble: 5 × 42\n",
       "\\begin{tabular}{lllllllllllllllllllll}\n",
       " status\\_id & created\\_at & user\\_id & screen\\_name & text & source & reply\\_to\\_status\\_id & reply\\_to\\_user\\_id & reply\\_to\\_screen\\_name & is\\_quote & ⋯ & retweet\\_text & place\\_url & place\\_name & place\\_full\\_name & place\\_type & country & country\\_code & geo\\_coords & coords\\_coords & bbox\\_coords\\\\\n",
       " <chr> & <dttm> & <chr> & <chr> & <chr> & <chr> & <chr> & <chr> & <chr> & <lgl> & ⋯ & <chr> & <chr> & <chr> & <chr> & <chr> & <chr> & <chr> & <list> & <list> & <list>\\\\\n",
       "\\hline\n",
       "\t 997577906007298048 & 2018-05-18 20:41:21 & 25073877 & realDonaldTrump & Just met with UN Secretary-General António Guterres who is working hard to “Make the United Nations Great Again.” When the UN does more to solve conflicts around the world, it means the U.S. has less to do and we save money. @NikkiHaley is doing a fantastic job! https://t.co/pqUv6cyH2z            & Twitter for iPhone & NA & NA & NA & FALSE & ⋯ & NA                                                                                                                                                                                                                                                                                        & NA & NA & NA & NA & NA & NA & NA, NA & NA, NA & NA, NA, NA, NA, NA, NA, NA, NA\\\\\n",
       "\t 997573139663028224 & 2018-05-18 20:22:25 & 25073877 & realDonaldTrump & America is a Nation that believes in the power of redemption. America is a Nation that believes in second chances - and America is a Nation that believes that the best is always yet to come! \\#PrisonReform https://t.co/Yk5UJUYgHN                                                                      & Twitter for iPhone & NA & NA & NA & FALSE & ⋯ & NA                                                                                                                                                                                                                                                                                        & NA & NA & NA & NA & NA & NA & NA, NA & NA, NA & NA, NA, NA, NA, NA, NA, NA, NA\\\\\n",
       "\t 997568208369577985 & 2018-05-18 20:02:49 & 25073877 & realDonaldTrump & RT @SteveForbesCEO: .@realDonaldTrump speech on drug costs pays immediate dividends. New @Amgen drug lists at 30\\% less than expected. Middl…                                                                                                                                                              & Twitter for iPhone & NA & NA & NA & FALSE & ⋯ & .@realDonaldTrump speech on drug costs pays immediate dividends. New @Amgen drug lists at 30\\% less than expected. Middlemen like Pharmacy Benefit Managers, insurers \\&amp; hospitals would do well by passing discounts on to patients. @SecAzar  @SGottliebFDA \n",
       "https://t.co/mfRQ5COtev & NA & NA & NA & NA & NA & NA & NA, NA & NA, NA & NA, NA, NA, NA, NA, NA, NA, NA\\\\\n",
       "\t 997515759281680385 & 2018-05-18 16:34:24 & 25073877 & realDonaldTrump & We grieve for the terrible loss of life, and send our support and love to everyone affected by this horrible attack in Texas. To the students, families, teachers and personnel at Santa Fe High School – we are with you in this tragic hour, and we will be with you forever... https://t.co/LtJ0D29Hsv & Twitter for iPhone & NA & NA & NA & FALSE & ⋯ & NA                                                                                                                                                                                                                                                                                        & NA & NA & NA & NA & NA & NA & NA, NA & NA, NA & NA, NA, NA, NA, NA, NA, NA, NA\\\\\n",
       "\t 997493407097524224 & 2018-05-18 15:05:35 & 25073877 & realDonaldTrump & School shooting in Texas. Early reports not looking good. God bless all!                                                                                                                                                                                                                                  & Twitter for iPhone & NA & NA & NA & FALSE & ⋯ & NA                                                                                                                                                                                                                                                                                        & NA & NA & NA & NA & NA & NA & NA, NA & NA, NA & NA, NA, NA, NA, NA, NA, NA, NA\\\\\n",
       "\\end{tabular}\n"
      ],
      "text/markdown": [
       "\n",
       "A tibble: 5 × 42\n",
       "\n",
       "| status_id &lt;chr&gt; | created_at &lt;dttm&gt; | user_id &lt;chr&gt; | screen_name &lt;chr&gt; | text &lt;chr&gt; | source &lt;chr&gt; | reply_to_status_id &lt;chr&gt; | reply_to_user_id &lt;chr&gt; | reply_to_screen_name &lt;chr&gt; | is_quote &lt;lgl&gt; | ⋯ ⋯ | retweet_text &lt;chr&gt; | place_url &lt;chr&gt; | place_name &lt;chr&gt; | place_full_name &lt;chr&gt; | place_type &lt;chr&gt; | country &lt;chr&gt; | country_code &lt;chr&gt; | geo_coords &lt;list&gt; | coords_coords &lt;list&gt; | bbox_coords &lt;list&gt; |\n",
       "|---|---|---|---|---|---|---|---|---|---|---|---|---|---|---|---|---|---|---|---|---|\n",
       "| 997577906007298048 | 2018-05-18 20:41:21 | 25073877 | realDonaldTrump | Just met with UN Secretary-General António Guterres who is working hard to “Make the United Nations Great Again.” When the UN does more to solve conflicts around the world, it means the U.S. has less to do and we save money. @NikkiHaley is doing a fantastic job! https://t.co/pqUv6cyH2z            | Twitter for iPhone | NA | NA | NA | FALSE | ⋯ | NA                                                                                                                                                                                                                                                                                        | NA | NA | NA | NA | NA | NA | NA, NA | NA, NA | NA, NA, NA, NA, NA, NA, NA, NA |\n",
       "| 997573139663028224 | 2018-05-18 20:22:25 | 25073877 | realDonaldTrump | America is a Nation that believes in the power of redemption. America is a Nation that believes in second chances - and America is a Nation that believes that the best is always yet to come! #PrisonReform https://t.co/Yk5UJUYgHN                                                                      | Twitter for iPhone | NA | NA | NA | FALSE | ⋯ | NA                                                                                                                                                                                                                                                                                        | NA | NA | NA | NA | NA | NA | NA, NA | NA, NA | NA, NA, NA, NA, NA, NA, NA, NA |\n",
       "| 997568208369577985 | 2018-05-18 20:02:49 | 25073877 | realDonaldTrump | RT @SteveForbesCEO: .@realDonaldTrump speech on drug costs pays immediate dividends. New @Amgen drug lists at 30% less than expected. Middl…                                                                                                                                                              | Twitter for iPhone | NA | NA | NA | FALSE | ⋯ | .@realDonaldTrump speech on drug costs pays immediate dividends. New @Amgen drug lists at 30% less than expected. Middlemen like Pharmacy Benefit Managers, insurers &amp;amp; hospitals would do well by passing discounts on to patients. @SecAzar  @SGottliebFDA \n",
       "https://t.co/mfRQ5COtev | NA | NA | NA | NA | NA | NA | NA, NA | NA, NA | NA, NA, NA, NA, NA, NA, NA, NA |\n",
       "| 997515759281680385 | 2018-05-18 16:34:24 | 25073877 | realDonaldTrump | We grieve for the terrible loss of life, and send our support and love to everyone affected by this horrible attack in Texas. To the students, families, teachers and personnel at Santa Fe High School – we are with you in this tragic hour, and we will be with you forever... https://t.co/LtJ0D29Hsv | Twitter for iPhone | NA | NA | NA | FALSE | ⋯ | NA                                                                                                                                                                                                                                                                                        | NA | NA | NA | NA | NA | NA | NA, NA | NA, NA | NA, NA, NA, NA, NA, NA, NA, NA |\n",
       "| 997493407097524224 | 2018-05-18 15:05:35 | 25073877 | realDonaldTrump | School shooting in Texas. Early reports not looking good. God bless all!                                                                                                                                                                                                                                  | Twitter for iPhone | NA | NA | NA | FALSE | ⋯ | NA                                                                                                                                                                                                                                                                                        | NA | NA | NA | NA | NA | NA | NA, NA | NA, NA | NA, NA, NA, NA, NA, NA, NA, NA |\n",
       "\n"
      ],
      "text/plain": [
       "  status_id          created_at          user_id  screen_name    \n",
       "1 997577906007298048 2018-05-18 20:41:21 25073877 realDonaldTrump\n",
       "2 997573139663028224 2018-05-18 20:22:25 25073877 realDonaldTrump\n",
       "3 997568208369577985 2018-05-18 20:02:49 25073877 realDonaldTrump\n",
       "4 997515759281680385 2018-05-18 16:34:24 25073877 realDonaldTrump\n",
       "5 997493407097524224 2018-05-18 15:05:35 25073877 realDonaldTrump\n",
       "  text                                                                                                                                                                                                                                                                                                     \n",
       "1 Just met with UN Secretary-General António Guterres who is working hard to “Make the United Nations Great Again.” When the UN does more to solve conflicts around the world, it means the U.S. has less to do and we save money. @NikkiHaley is doing a fantastic job! https://t.co/pqUv6cyH2z           \n",
       "2 America is a Nation that believes in the power of redemption. America is a Nation that believes in second chances - and America is a Nation that believes that the best is always yet to come! #PrisonReform https://t.co/Yk5UJUYgHN                                                                     \n",
       "3 RT @SteveForbesCEO: .@realDonaldTrump speech on drug costs pays immediate dividends. New @Amgen drug lists at 30% less than expected. Middl…                                                                                                                                                             \n",
       "4 We grieve for the terrible loss of life, and send our support and love to everyone affected by this horrible attack in Texas. To the students, families, teachers and personnel at Santa Fe High School – we are with you in this tragic hour, and we will be with you forever... https://t.co/LtJ0D29Hsv\n",
       "5 School shooting in Texas. Early reports not looking good. God bless all!                                                                                                                                                                                                                                 \n",
       "  source             reply_to_status_id reply_to_user_id reply_to_screen_name\n",
       "1 Twitter for iPhone NA                 NA               NA                  \n",
       "2 Twitter for iPhone NA                 NA               NA                  \n",
       "3 Twitter for iPhone NA                 NA               NA                  \n",
       "4 Twitter for iPhone NA                 NA               NA                  \n",
       "5 Twitter for iPhone NA                 NA               NA                  \n",
       "  is_quote ⋯\n",
       "1 FALSE    ⋯\n",
       "2 FALSE    ⋯\n",
       "3 FALSE    ⋯\n",
       "4 FALSE    ⋯\n",
       "5 FALSE    ⋯\n",
       "  retweet_text                                                                                                                                                                                                                                                                             \n",
       "1 NA                                                                                                                                                                                                                                                                                       \n",
       "2 NA                                                                                                                                                                                                                                                                                       \n",
       "3 .@realDonaldTrump speech on drug costs pays immediate dividends. New @Amgen drug lists at 30% less than expected. Middlemen like Pharmacy Benefit Managers, insurers &amp; hospitals would do well by passing discounts on to patients. @SecAzar  @SGottliebFDA \\nhttps://t.co/mfRQ5COtev\n",
       "4 NA                                                                                                                                                                                                                                                                                       \n",
       "5 NA                                                                                                                                                                                                                                                                                       \n",
       "  place_url place_name place_full_name place_type country country_code\n",
       "1 NA        NA         NA              NA         NA      NA          \n",
       "2 NA        NA         NA              NA         NA      NA          \n",
       "3 NA        NA         NA              NA         NA      NA          \n",
       "4 NA        NA         NA              NA         NA      NA          \n",
       "5 NA        NA         NA              NA         NA      NA          \n",
       "  geo_coords coords_coords bbox_coords                   \n",
       "1 NA, NA     NA, NA        NA, NA, NA, NA, NA, NA, NA, NA\n",
       "2 NA, NA     NA, NA        NA, NA, NA, NA, NA, NA, NA, NA\n",
       "3 NA, NA     NA, NA        NA, NA, NA, NA, NA, NA, NA, NA\n",
       "4 NA, NA     NA, NA        NA, NA, NA, NA, NA, NA, NA, NA\n",
       "5 NA, NA     NA, NA        NA, NA, NA, NA, NA, NA, NA, NA"
      ]
     },
     "metadata": {},
     "output_type": "display_data"
    }
   ],
   "source": [
    "# preview trumptweets\n",
    "head(trumptweets,5)"
   ]
  },
  {
   "cell_type": "markdown",
   "metadata": {},
   "source": [
    "#### Look at individual column values"
   ]
  },
  {
   "cell_type": "code",
   "execution_count": 9,
   "metadata": {
    "scrolled": true
   },
   "outputs": [
    {
     "data": {
      "text/html": [
       "<style>\n",
       ".list-inline {list-style: none; margin:0; padding: 0}\n",
       ".list-inline>li {display: inline-block}\n",
       ".list-inline>li:not(:last-child)::after {content: \"\\00b7\"; padding: 0 .5ex}\n",
       "</style>\n",
       "<ol class=list-inline><li>'status_id'</li><li>'created_at'</li><li>'user_id'</li><li>'screen_name'</li><li>'text'</li><li>'source'</li><li>'reply_to_status_id'</li><li>'reply_to_user_id'</li><li>'reply_to_screen_name'</li><li>'is_quote'</li><li>'is_retweet'</li><li>'favorite_count'</li><li>'retweet_count'</li><li>'hashtags'</li><li>'symbols'</li><li>'urls_url'</li><li>'urls_t.co'</li><li>'urls_expanded_url'</li><li>'media_url'</li><li>'media_t.co'</li><li>'media_expanded_url'</li><li>'media_type'</li><li>'ext_media_url'</li><li>'ext_media_t.co'</li><li>'ext_media_expanded_url'</li><li>'ext_media_type'</li><li>'mentions_user_id'</li><li>'mentions_screen_name'</li><li>'lang'</li><li>'quoted_status_id'</li><li>'quoted_text'</li><li>'retweet_status_id'</li><li>'retweet_text'</li><li>'place_url'</li><li>'place_name'</li><li>'place_full_name'</li><li>'place_type'</li><li>'country'</li><li>'country_code'</li><li>'geo_coords'</li><li>'coords_coords'</li><li>'bbox_coords'</li></ol>\n"
      ],
      "text/latex": [
       "\\begin{enumerate*}\n",
       "\\item 'status\\_id'\n",
       "\\item 'created\\_at'\n",
       "\\item 'user\\_id'\n",
       "\\item 'screen\\_name'\n",
       "\\item 'text'\n",
       "\\item 'source'\n",
       "\\item 'reply\\_to\\_status\\_id'\n",
       "\\item 'reply\\_to\\_user\\_id'\n",
       "\\item 'reply\\_to\\_screen\\_name'\n",
       "\\item 'is\\_quote'\n",
       "\\item 'is\\_retweet'\n",
       "\\item 'favorite\\_count'\n",
       "\\item 'retweet\\_count'\n",
       "\\item 'hashtags'\n",
       "\\item 'symbols'\n",
       "\\item 'urls\\_url'\n",
       "\\item 'urls\\_t.co'\n",
       "\\item 'urls\\_expanded\\_url'\n",
       "\\item 'media\\_url'\n",
       "\\item 'media\\_t.co'\n",
       "\\item 'media\\_expanded\\_url'\n",
       "\\item 'media\\_type'\n",
       "\\item 'ext\\_media\\_url'\n",
       "\\item 'ext\\_media\\_t.co'\n",
       "\\item 'ext\\_media\\_expanded\\_url'\n",
       "\\item 'ext\\_media\\_type'\n",
       "\\item 'mentions\\_user\\_id'\n",
       "\\item 'mentions\\_screen\\_name'\n",
       "\\item 'lang'\n",
       "\\item 'quoted\\_status\\_id'\n",
       "\\item 'quoted\\_text'\n",
       "\\item 'retweet\\_status\\_id'\n",
       "\\item 'retweet\\_text'\n",
       "\\item 'place\\_url'\n",
       "\\item 'place\\_name'\n",
       "\\item 'place\\_full\\_name'\n",
       "\\item 'place\\_type'\n",
       "\\item 'country'\n",
       "\\item 'country\\_code'\n",
       "\\item 'geo\\_coords'\n",
       "\\item 'coords\\_coords'\n",
       "\\item 'bbox\\_coords'\n",
       "\\end{enumerate*}\n"
      ],
      "text/markdown": [
       "1. 'status_id'\n",
       "2. 'created_at'\n",
       "3. 'user_id'\n",
       "4. 'screen_name'\n",
       "5. 'text'\n",
       "6. 'source'\n",
       "7. 'reply_to_status_id'\n",
       "8. 'reply_to_user_id'\n",
       "9. 'reply_to_screen_name'\n",
       "10. 'is_quote'\n",
       "11. 'is_retweet'\n",
       "12. 'favorite_count'\n",
       "13. 'retweet_count'\n",
       "14. 'hashtags'\n",
       "15. 'symbols'\n",
       "16. 'urls_url'\n",
       "17. 'urls_t.co'\n",
       "18. 'urls_expanded_url'\n",
       "19. 'media_url'\n",
       "20. 'media_t.co'\n",
       "21. 'media_expanded_url'\n",
       "22. 'media_type'\n",
       "23. 'ext_media_url'\n",
       "24. 'ext_media_t.co'\n",
       "25. 'ext_media_expanded_url'\n",
       "26. 'ext_media_type'\n",
       "27. 'mentions_user_id'\n",
       "28. 'mentions_screen_name'\n",
       "29. 'lang'\n",
       "30. 'quoted_status_id'\n",
       "31. 'quoted_text'\n",
       "32. 'retweet_status_id'\n",
       "33. 'retweet_text'\n",
       "34. 'place_url'\n",
       "35. 'place_name'\n",
       "36. 'place_full_name'\n",
       "37. 'place_type'\n",
       "38. 'country'\n",
       "39. 'country_code'\n",
       "40. 'geo_coords'\n",
       "41. 'coords_coords'\n",
       "42. 'bbox_coords'\n",
       "\n",
       "\n"
      ],
      "text/plain": [
       " [1] \"status_id\"              \"created_at\"             \"user_id\"               \n",
       " [4] \"screen_name\"            \"text\"                   \"source\"                \n",
       " [7] \"reply_to_status_id\"     \"reply_to_user_id\"       \"reply_to_screen_name\"  \n",
       "[10] \"is_quote\"               \"is_retweet\"             \"favorite_count\"        \n",
       "[13] \"retweet_count\"          \"hashtags\"               \"symbols\"               \n",
       "[16] \"urls_url\"               \"urls_t.co\"              \"urls_expanded_url\"     \n",
       "[19] \"media_url\"              \"media_t.co\"             \"media_expanded_url\"    \n",
       "[22] \"media_type\"             \"ext_media_url\"          \"ext_media_t.co\"        \n",
       "[25] \"ext_media_expanded_url\" \"ext_media_type\"         \"mentions_user_id\"      \n",
       "[28] \"mentions_screen_name\"   \"lang\"                   \"quoted_status_id\"      \n",
       "[31] \"quoted_text\"            \"retweet_status_id\"      \"retweet_text\"          \n",
       "[34] \"place_url\"              \"place_name\"             \"place_full_name\"       \n",
       "[37] \"place_type\"             \"country\"                \"country_code\"          \n",
       "[40] \"geo_coords\"             \"coords_coords\"          \"bbox_coords\"           "
      ]
     },
     "metadata": {},
     "output_type": "display_data"
    },
    {
     "data": {
      "text/html": [
       "<table>\n",
       "<caption>A tibble: 6 × 4</caption>\n",
       "<thead>\n",
       "\t<tr><th scope=col>created_at</th><th scope=col>text</th><th scope=col>favorite_count</th><th scope=col>source</th></tr>\n",
       "\t<tr><th scope=col>&lt;dttm&gt;</th><th scope=col>&lt;chr&gt;</th><th scope=col>&lt;int&gt;</th><th scope=col>&lt;chr&gt;</th></tr>\n",
       "</thead>\n",
       "<tbody>\n",
       "\t<tr><td>2018-05-18 20:41:21</td><td>Just met with UN Secretary-General António Guterres who is working hard to “Make the United Nations Great Again.” When the UN does more to solve conflicts around the world, it means the U.S. has less to do and we save money. @NikkiHaley is doing a fantastic job! https://t.co/pqUv6cyH2z           </td><td> 4550</td><td>Twitter for iPhone</td></tr>\n",
       "\t<tr><td>2018-05-18 20:22:25</td><td>America is a Nation that believes in the power of redemption. America is a Nation that believes in second chances - and America is a Nation that believes that the best is always yet to come! #PrisonReform https://t.co/Yk5UJUYgHN                                                                     </td><td>10450</td><td>Twitter for iPhone</td></tr>\n",
       "\t<tr><td>2018-05-18 20:02:49</td><td>RT @SteveForbesCEO: .@realDonaldTrump speech on drug costs pays immediate dividends. New @Amgen drug lists at 30% less than expected. Middl…                                                                                                                                                             </td><td>    0</td><td>Twitter for iPhone</td></tr>\n",
       "\t<tr><td>2018-05-18 16:34:24</td><td>We grieve for the terrible loss of life, and send our support and love to everyone affected by this horrible attack in Texas. To the students, families, teachers and personnel at Santa Fe High School – we are with you in this tragic hour, and we will be with you forever... https://t.co/LtJ0D29Hsv</td><td>40709</td><td>Twitter for iPhone</td></tr>\n",
       "\t<tr><td>2018-05-18 15:05:35</td><td>School shooting in Texas. Early reports not looking good. God bless all!                                                                                                                                                                                                                                 </td><td>66378</td><td>Twitter for iPhone</td></tr>\n",
       "\t<tr><td>2018-05-18 13:50:11</td><td>Reports are there was indeed at least one FBI representative implanted, for political purposes, into my campaign for president. It took place very early on, and long before the phony Russia Hoax became a “hot” Fake News story. If true - all time biggest political scandal!                         </td><td>55306</td><td>Twitter for iPhone</td></tr>\n",
       "</tbody>\n",
       "</table>\n"
      ],
      "text/latex": [
       "A tibble: 6 × 4\n",
       "\\begin{tabular}{llll}\n",
       " created\\_at & text & favorite\\_count & source\\\\\n",
       " <dttm> & <chr> & <int> & <chr>\\\\\n",
       "\\hline\n",
       "\t 2018-05-18 20:41:21 & Just met with UN Secretary-General António Guterres who is working hard to “Make the United Nations Great Again.” When the UN does more to solve conflicts around the world, it means the U.S. has less to do and we save money. @NikkiHaley is doing a fantastic job! https://t.co/pqUv6cyH2z            &  4550 & Twitter for iPhone\\\\\n",
       "\t 2018-05-18 20:22:25 & America is a Nation that believes in the power of redemption. America is a Nation that believes in second chances - and America is a Nation that believes that the best is always yet to come! \\#PrisonReform https://t.co/Yk5UJUYgHN                                                                      & 10450 & Twitter for iPhone\\\\\n",
       "\t 2018-05-18 20:02:49 & RT @SteveForbesCEO: .@realDonaldTrump speech on drug costs pays immediate dividends. New @Amgen drug lists at 30\\% less than expected. Middl…                                                                                                                                                              &     0 & Twitter for iPhone\\\\\n",
       "\t 2018-05-18 16:34:24 & We grieve for the terrible loss of life, and send our support and love to everyone affected by this horrible attack in Texas. To the students, families, teachers and personnel at Santa Fe High School – we are with you in this tragic hour, and we will be with you forever... https://t.co/LtJ0D29Hsv & 40709 & Twitter for iPhone\\\\\n",
       "\t 2018-05-18 15:05:35 & School shooting in Texas. Early reports not looking good. God bless all!                                                                                                                                                                                                                                  & 66378 & Twitter for iPhone\\\\\n",
       "\t 2018-05-18 13:50:11 & Reports are there was indeed at least one FBI representative implanted, for political purposes, into my campaign for president. It took place very early on, and long before the phony Russia Hoax became a “hot” Fake News story. If true - all time biggest political scandal!                          & 55306 & Twitter for iPhone\\\\\n",
       "\\end{tabular}\n"
      ],
      "text/markdown": [
       "\n",
       "A tibble: 6 × 4\n",
       "\n",
       "| created_at &lt;dttm&gt; | text &lt;chr&gt; | favorite_count &lt;int&gt; | source &lt;chr&gt; |\n",
       "|---|---|---|---|\n",
       "| 2018-05-18 20:41:21 | Just met with UN Secretary-General António Guterres who is working hard to “Make the United Nations Great Again.” When the UN does more to solve conflicts around the world, it means the U.S. has less to do and we save money. @NikkiHaley is doing a fantastic job! https://t.co/pqUv6cyH2z            |  4550 | Twitter for iPhone |\n",
       "| 2018-05-18 20:22:25 | America is a Nation that believes in the power of redemption. America is a Nation that believes in second chances - and America is a Nation that believes that the best is always yet to come! #PrisonReform https://t.co/Yk5UJUYgHN                                                                      | 10450 | Twitter for iPhone |\n",
       "| 2018-05-18 20:02:49 | RT @SteveForbesCEO: .@realDonaldTrump speech on drug costs pays immediate dividends. New @Amgen drug lists at 30% less than expected. Middl…                                                                                                                                                              |     0 | Twitter for iPhone |\n",
       "| 2018-05-18 16:34:24 | We grieve for the terrible loss of life, and send our support and love to everyone affected by this horrible attack in Texas. To the students, families, teachers and personnel at Santa Fe High School – we are with you in this tragic hour, and we will be with you forever... https://t.co/LtJ0D29Hsv | 40709 | Twitter for iPhone |\n",
       "| 2018-05-18 15:05:35 | School shooting in Texas. Early reports not looking good. God bless all!                                                                                                                                                                                                                                  | 66378 | Twitter for iPhone |\n",
       "| 2018-05-18 13:50:11 | Reports are there was indeed at least one FBI representative implanted, for political purposes, into my campaign for president. It took place very early on, and long before the phony Russia Hoax became a “hot” Fake News story. If true - all time biggest political scandal!                          | 55306 | Twitter for iPhone |\n",
       "\n"
      ],
      "text/plain": [
       "  created_at         \n",
       "1 2018-05-18 20:41:21\n",
       "2 2018-05-18 20:22:25\n",
       "3 2018-05-18 20:02:49\n",
       "4 2018-05-18 16:34:24\n",
       "5 2018-05-18 15:05:35\n",
       "6 2018-05-18 13:50:11\n",
       "  text                                                                                                                                                                                                                                                                                                     \n",
       "1 Just met with UN Secretary-General António Guterres who is working hard to “Make the United Nations Great Again.” When the UN does more to solve conflicts around the world, it means the U.S. has less to do and we save money. @NikkiHaley is doing a fantastic job! https://t.co/pqUv6cyH2z           \n",
       "2 America is a Nation that believes in the power of redemption. America is a Nation that believes in second chances - and America is a Nation that believes that the best is always yet to come! #PrisonReform https://t.co/Yk5UJUYgHN                                                                     \n",
       "3 RT @SteveForbesCEO: .@realDonaldTrump speech on drug costs pays immediate dividends. New @Amgen drug lists at 30% less than expected. Middl…                                                                                                                                                             \n",
       "4 We grieve for the terrible loss of life, and send our support and love to everyone affected by this horrible attack in Texas. To the students, families, teachers and personnel at Santa Fe High School – we are with you in this tragic hour, and we will be with you forever... https://t.co/LtJ0D29Hsv\n",
       "5 School shooting in Texas. Early reports not looking good. God bless all!                                                                                                                                                                                                                                 \n",
       "6 Reports are there was indeed at least one FBI representative implanted, for political purposes, into my campaign for president. It took place very early on, and long before the phony Russia Hoax became a “hot” Fake News story. If true - all time biggest political scandal!                         \n",
       "  favorite_count source            \n",
       "1  4550          Twitter for iPhone\n",
       "2 10450          Twitter for iPhone\n",
       "3     0          Twitter for iPhone\n",
       "4 40709          Twitter for iPhone\n",
       "5 66378          Twitter for iPhone\n",
       "6 55306          Twitter for iPhone"
      ]
     },
     "metadata": {},
     "output_type": "display_data"
    }
   ],
   "source": [
    "# print column names\n",
    "names(trumptweets)\n",
    "trumptweets %>%\n",
    "  select('created_at', 'text', 'favorite_count','source') %>%\n",
    "    head"
   ]
  },
  {
   "cell_type": "markdown",
   "metadata": {},
   "source": [
    "We can use ```[tablename]$[columnname]```  to select a column and perform different operations on them.\n",
    "Some example operations include:\n",
    "\n",
    "```min```, ```max```, \n",
    "\n",
    "```nrow```, ```ncol```,\n",
    "\n",
    "```unique```, ```n_distinct```,\n",
    "\n",
    "```mean```,```median```, ```sd```"
   ]
  },
  {
   "cell_type": "code",
   "execution_count": null,
   "metadata": {},
   "outputs": [],
   "source": [
    "# print summary information on individual columns\n",
    "print(paste('# of rows: ', nrow(trumptweets)))\n",
    "min(trumptweets$created_at)\n",
    "max(trumptweets$created_at)\n",
    "unique(trumptweets$country)"
   ]
  },
  {
   "cell_type": "markdown",
   "metadata": {},
   "source": [
    "#### Convert timestamps \n",
    "This will make it easier to select tweets by a specific date or timestamp"
   ]
  },
  {
   "cell_type": "code",
   "execution_count": null,
   "metadata": {},
   "outputs": [],
   "source": [
    "# convert timestamps to timestamp format\n",
    "trumptweets$created_at <- ymd_hms(trumptweets$created_at)\n",
    "\n",
    "## examples: \n",
    "# trumptweets[as.Date(trumptweets$created_at) == as.Date(\"2018-05-18\"),]\n",
    "# trumptweets[trumptweets$created_at == ymd_hms(\"2018-05-18 15:05:35\"),]"
   ]
  },
  {
   "cell_type": "markdown",
   "metadata": {},
   "source": [
    "### Format and clean the text\n"
   ]
  },
  {
   "cell_type": "markdown",
   "metadata": {},
   "source": [
    "#### Filter out retweets and replace urls"
   ]
  },
  {
   "cell_type": "code",
   "execution_count": null,
   "metadata": {},
   "outputs": [],
   "source": [
    "# regex for parsing tweets\n",
    "replace_reg <- \"https?://[^\\\\s]+|&amp;|&lt;|&gt;|\\bRT\\\\b\"\n",
    "trumptweets <- trumptweets %>%\n",
    "  filter(is_retweet == FALSE) %>%\n",
    "  mutate(text = str_replace_all(text, replace_reg, \"url\"))\n"
   ]
  },
  {
   "cell_type": "markdown",
   "metadata": {},
   "source": [
    "#### Tokenize the data\n",
    "**Tokenization** - the way you define a unit of analysis (e.g. words, sequence of words, sentence)\n",
    "\n",
    "**Document** - a unit of context (in this case - a single tweet)\n",
    "\n",
    "**Tidy text format** - One row per token (word in this case) with column variables that have extra context (e.g. which tweet the word came from)"
   ]
  },
  {
   "cell_type": "code",
   "execution_count": null,
   "metadata": {},
   "outputs": [],
   "source": [
    "tidy_trump_tweets<- trumptweets %>%\n",
    "    select(created_at,text) %>%\n",
    "    unnest_tokens(\"word\", text)\n",
    "head(tidy_trump_tweets)\n"
   ]
  },
  {
   "cell_type": "markdown",
   "metadata": {},
   "source": [
    "#### Remove stopwords\n",
    "Common words such as “the”, “and”, “bot”, “for”, “is”, etc. are often described as “stop words,” meaning that they should not be included in a quantitative text analysis. The tidytext package has a list of common stop words that we can use."
   ]
  },
  {
   "cell_type": "code",
   "execution_count": null,
   "metadata": {},
   "outputs": [],
   "source": [
    "# load stop_words from tidytext package and remove from tidy_trump_tweets\n",
    "\n",
    "#load stop_words\n",
    "data(\"stop_words\")\n",
    "\n",
    "# remove stopwords and other insignificant words from tidy_trump_tweets\n",
    "tidy_trump_tweets <-\n",
    "   tidy_trump_tweets %>%\n",
    "      anti_join(stop_words) %>%\n",
    "        filter(!(word==\"https\"|\n",
    "                 word==\"rt\"|\n",
    "                 word==\"t.co\"|\n",
    "                 word==\"amp\" |\n",
    "                 word==\"url\")) \n",
    "head(tidy_trump_tweets)"
   ]
  },
  {
   "cell_type": "markdown",
   "metadata": {},
   "source": [
    "#### Remove punctuation\n",
    "Done automatically by `tidytext`"
   ]
  },
  {
   "cell_type": "markdown",
   "metadata": {},
   "source": [
    "#### Convert to lowercase\n",
    "Done automatically by `tidytext`"
   ]
  },
  {
   "cell_type": "markdown",
   "metadata": {},
   "source": [
    "#### Remove extra white spaces"
   ]
  },
  {
   "cell_type": "code",
   "execution_count": null,
   "metadata": {},
   "outputs": [],
   "source": [
    "# remove extra white spaces\n",
    "tidy_trump_tweets$word <- gsub(\"\\\\s+\",\"\",tidy_trump_tweets$word)"
   ]
  },
  {
   "cell_type": "markdown",
   "metadata": {},
   "source": [
    "#### Stemming"
   ]
  },
  {
   "cell_type": "code",
   "execution_count": null,
   "metadata": {},
   "outputs": [],
   "source": [
    "# get word stems\n",
    "tidy_trump_tweets_stemmed<-tidy_trump_tweets %>%\n",
    "      mutate_at(\"word\", list(~wordStem((.), language=\"en\")))\n",
    "head(tidy_trump_tweets_stemmed)"
   ]
  },
  {
   "cell_type": "markdown",
   "metadata": {},
   "source": [
    "## Word counting \n",
    "Count the most commonly used words across tweets and plot them "
   ]
  },
  {
   "cell_type": "code",
   "execution_count": null,
   "metadata": {},
   "outputs": [],
   "source": [
    "# count word frequencies and sort in descending order\n",
    "top_words<-\n",
    "   tidy_trump_tweets %>%\n",
    "    count(word) %>%\n",
    "        arrange(desc(n))"
   ]
  },
  {
   "cell_type": "code",
   "execution_count": null,
   "metadata": {},
   "outputs": [],
   "source": [
    "# plot the top 20 most frequently used words\n",
    "top_words %>%\n",
    "  slice(1:20) %>%\n",
    "    ggplot(aes(x=reorder(word, -n), y=n, fill=word))+\n",
    "      geom_bar(stat=\"identity\")+\n",
    "        theme_minimal()+\n",
    "        theme(axis.text.x = \n",
    "            element_text(angle = 60, hjust = 1, size=13))+\n",
    "        theme(plot.title = \n",
    "            element_text(hjust = 0.5, size=18))+\n",
    "          ylab(\"Frequency\")+\n",
    "          xlab(\"\")+\n",
    "          ggtitle(\"Most Frequent Words in Trump Tweets\")+\n",
    "          guides(fill=FALSE)"
   ]
  },
  {
   "cell_type": "markdown",
   "metadata": {},
   "source": [
    "### WordCloud"
   ]
  },
  {
   "cell_type": "code",
   "execution_count": null,
   "metadata": {},
   "outputs": [],
   "source": [
    "# generate a wordcloud \n",
    "set.seed(1234) # for reproducibility \n",
    "wordcloud(words = top_words$word, freq = top_words$n, min.freq = 1,  \n",
    "          max.words=200, random.order=FALSE, rot.per=0.35,colors=brewer.pal(8, \"Dark2\"))"
   ]
  },
  {
   "cell_type": "markdown",
   "metadata": {},
   "source": [
    "### tf-idf: Term Frequency Inverse Document Frequency\n",
    "Giving more weight to a term occuring in less documents"
   ]
  },
  {
   "cell_type": "code",
   "execution_count": null,
   "metadata": {},
   "outputs": [],
   "source": [
    "tidy_trump_tfidf <- tidy_trump_tweets %>%\n",
    "    count(word, created_at) %>%\n",
    "        bind_tf_idf(word, created_at, n) %>%\n",
    "            arrange(desc(tf_idf))"
   ]
  },
  {
   "cell_type": "code",
   "execution_count": null,
   "metadata": {
    "scrolled": true
   },
   "outputs": [],
   "source": [
    "head(tidy_trump_tfidf)"
   ]
  },
  {
   "cell_type": "code",
   "execution_count": null,
   "metadata": {},
   "outputs": [],
   "source": [
    "trumptweets[trumptweets$created_at == ymd_hms(\"2017-06-15 23:49:24\"),]$hashtags"
   ]
  },
  {
   "cell_type": "markdown",
   "metadata": {},
   "source": [
    "## Dictionary-based text analysis"
   ]
  },
  {
   "cell_type": "markdown",
   "metadata": {},
   "source": [
    "### Selecting for a collection of words"
   ]
  },
  {
   "cell_type": "code",
   "execution_count": null,
   "metadata": {},
   "outputs": [],
   "source": [
    "topic_dictionary<-c(\"economy\",\"unemployment\",\"trade\",\"tariffs\",\"jobs\")"
   ]
  },
  {
   "cell_type": "code",
   "execution_count": null,
   "metadata": {},
   "outputs": [],
   "source": [
    "topic_dictionary_tweets<-trumptweets[str_detect(trumptweets$text, paste(my_dictionary, collapse=\"|\")),]"
   ]
  },
  {
   "cell_type": "code",
   "execution_count": null,
   "metadata": {
    "scrolled": true
   },
   "outputs": [],
   "source": [
    "topic_dictionary_tweets"
   ]
  },
  {
   "cell_type": "code",
   "execution_count": null,
   "metadata": {},
   "outputs": [],
   "source": [
    "topic_top_words<-topic_dictionary_tweets %>%\n",
    "    select(created_at,text) %>%\n",
    "      unnest_tokens(\"word\", text) %>%\n",
    "        anti_join(stop_words) %>%\n",
    "            filter(!(word==\"https\"|\n",
    "                 word==\"rt\"|\n",
    "                 word==\"t.co\"|\n",
    "                 word==\"amp\" |\n",
    "                 word==\"url\")) %>%\n",
    "            count(word) %>%\n",
    "                arrange(desc(n))"
   ]
  },
  {
   "cell_type": "code",
   "execution_count": null,
   "metadata": {},
   "outputs": [],
   "source": [
    "set.seed(1234) # for reproducibility \n",
    "wordcloud(words = topic_top_words$word, freq = topic_top_words$n, min.freq = 1,  \n",
    "          max.words=200, random.order=FALSE, rot.per=0.35,colors=brewer.pal(8, \"Dark2\"))"
   ]
  },
  {
   "cell_type": "code",
   "execution_count": null,
   "metadata": {},
   "outputs": [],
   "source": []
  }
 ],
 "metadata": {
  "kernelspec": {
   "display_name": "R",
   "language": "R",
   "name": "ir"
  },
  "language_info": {
   "codemirror_mode": "r",
   "file_extension": ".r",
   "mimetype": "text/x-r-source",
   "name": "R",
   "pygments_lexer": "r",
   "version": "3.6.3"
  },
  "toc": {
   "base_numbering": 1,
   "nav_menu": {},
   "number_sections": true,
   "sideBar": true,
   "skip_h1_title": true,
   "title_cell": "Table of Contents",
   "title_sidebar": "Contents",
   "toc_cell": false,
   "toc_position": {},
   "toc_section_display": true,
   "toc_window_display": true
  }
 },
 "nbformat": 4,
 "nbformat_minor": 4
}
